{
 "cells": [
  {
   "cell_type": "markdown",
   "source": [
    "### Лабораторная работа №1\n",
    "#### Вариант 7\n",
    "#### Выполнил студент 14 группы 2 курса\n",
    "#### Гордей Павел Дмитриевич\n",
    "#### Задание 7. Обращение матрицы методом Гаусса с выбором ГЭ по столбцу."
   ],
   "metadata": {
    "collapsed": false,
    "pycharm": {
     "name": "#%% md\n"
    }
   }
  },
  {
   "cell_type": "markdown",
   "source": [
    "1. Написать программу, которая обращает\n",
    "матрицу методом Гаусса с выбором ГЭ по\n",
    "столбцу. Применить программу к следующим\n",
    "ниже входным данным и вывести результат.\n",
    "\n",
    "$\n",
    "A = \\left(\n",
    "\\begin{array}{}\n",
    "-1&-4&-5&-1&0&-1&-1\\\\\n",
    "-1&-4&0&4&-4&0&-4\\\\\n",
    "-2&-8&-5&-1&0&-4&0\\\\\n",
    "-4&-16&-10&2&-4&-2&0\\\\\n",
    "-8&-32&-20&4&-8&0&-2\\\\\n",
    "-16&-64&-40&8&-16&-7&-4\\\\\n",
    "5&-5&-5&-2&0&-2&-1\\\\\n",
    "\\end{array}\n",
    "\\right)\n",
    "$\n",
    "\n",
    "$\n",
    "A = \\left(\n",
    "\\begin{array}{}\n",
    "1&1&1&1&1&1&1&1&1&1\\\\\n",
    "1&2&4&8&16&32&64&128&256&512\\\\\n",
    "1&3&9&27&81&243&729&2187&6561&19683\\\\\n",
    "1&4&16&64&256&1024&4096&16384&65536&262144\\\\\n",
    "1&5&25&125&625&3125&15625&78125&390625&1953125\\\\\n",
    "1&6&36&216&1296&7776&46656&279936&1679616&10077696\\\\\n",
    "1&7&49&343&2401&16807&117649&823543&5764801&40353607\\\\\n",
    "1&8&64&512&4096&32768&262144&2097152&16777216&134217728\\\\\n",
    "1&9&81&729&6561&59049&531441&4782969&43046721&387420489\\\\\n",
    "1&10&100&1000&10000&100000&1000000&10000000&100000000&1000000000\\\\\n",
    "\\end{array}\n",
    "\\right)\n",
    "$\n",
    "\n",
    "$\n",
    "A = \\left(\n",
    "\\begin{array}{}\n",
    "5&3&3&-4&5&-5&-4&-5&0&2\\\\\n",
    "5&3&-1&2&3&0&-4&1&-4&-5\\\\\n",
    "10&6&2&-3&-2&-2&-1&0&-3&-5\\\\\n",
    "20&12&4&-5&-1&-4&4&-2&-2&-4\\\\\n",
    "40&24&8&-10&5&-1&5&2&0&-3\\\\\n",
    "80&48&16&-20&10&-12&-3&-3&3&2\\\\\n",
    "160&96&32&-40&20&-24&-3&-4&1&4\\\\\n",
    "320&192&64&-80&40&-48&-6&-11&0&-3\\\\\n",
    "640&384&128&-160&80&-96&-12&-22&-5&2\\\\\n",
    "-3&-3&0&0&5&3&-2&2&5&-2\\\\\n",
    "\\end{array}\n",
    "\\right)\n",
    "$"
   ],
   "metadata": {
    "collapsed": false
   }
  },
  {
   "cell_type": "markdown",
   "source": [
    "Основной класс задачи:"
   ],
   "metadata": {
    "collapsed": false,
    "pycharm": {
     "name": "#%% md\n"
    }
   }
  },
  {
   "cell_type": "code",
   "execution_count": 2,
   "outputs": [],
   "source": [
    "import copy\n",
    "import math\n",
    "\n",
    "\n",
    "class CustomMatrix:\n",
    "    def __init__(self, matrix: list):\n",
    "        self.__matrix = matrix\n",
    "\n",
    "    def get_matrix(self) -> list:\n",
    "        return self.__matrix\n",
    "\n",
    "    def get_matrix_dimension(self) -> int:\n",
    "        return len(self.__matrix)\n",
    "\n",
    "    def set_matrix(self, matrix: list):\n",
    "        self.__matrix = matrix\n",
    "\n",
    "    def inverse(self):\n",
    "        if not self.__check_if_square_matrix():\n",
    "            raise Exception(\"Matrix is not square.\")\n",
    "\n",
    "        size = len(self.__matrix)\n",
    "        identity_matrix = [size * [0] for _ in range(size)]\n",
    "        for i in range(size):\n",
    "            identity_matrix[i][i] = 1\n",
    "\n",
    "        for i in range(size - 1):\n",
    "            self.__choose_max(identity_matrix, i)\n",
    "            for j in range(i + 1, size):\n",
    "                self.__update_line(identity_matrix, i, j)\n",
    "\n",
    "        for l in range(size):\n",
    "            for i in range(size - 1, -1, -1):\n",
    "                summa = 0\n",
    "                for j in range(i + 1, size):\n",
    "                    summa += self.__matrix[i][j] * identity_matrix[j][l]\n",
    "                identity_matrix[i][l] -= summa\n",
    "                identity_matrix[i][l] /= self.__matrix[i][i]\n",
    "\n",
    "        self.__matrix = identity_matrix\n",
    "        return self\n",
    "\n",
    "    def solve_gauss(self, vector: list) -> list:\n",
    "        if not self.__check_if_square_matrix():\n",
    "            raise Exception(\"Matrix is not square.\")\n",
    "        if len(self.__matrix) != len(vector):\n",
    "            raise Exception(\"Invalid length of vector.\")\n",
    "\n",
    "        result = copy.deepcopy(vector)\n",
    "        matrix = copy.deepcopy(self.__matrix)\n",
    "        size = len(self.__matrix)\n",
    "\n",
    "        for i in range(size - 1):\n",
    "            self.__choose_max(result, i)\n",
    "            for j in range(i + 1, size):\n",
    "                self.__update_line(vector=result, base_line_index=i, row=j)\n",
    "\n",
    "        for i in range(size - 1, -1, -1):\n",
    "            summa = 0\n",
    "            for j in range(i + 1, size):\n",
    "                summa += self.__matrix[i][j] * result[j]\n",
    "            result[i] -= summa\n",
    "            result[i] /= self.__matrix[i][i]\n",
    "\n",
    "        self.__matrix = matrix\n",
    "        return result\n",
    "\n",
    "    def __check_if_square_matrix(self) -> bool:\n",
    "        for line in self.__matrix:\n",
    "            if len(line) != len(self.__matrix):\n",
    "                return False\n",
    "        return True\n",
    "\n",
    "    def __choose_max(self, matrix_or_vector: list, row: int):\n",
    "        res_row = row\n",
    "        max_element = math.fabs(self.__matrix[row][row])\n",
    "        for i in range(row + 1, len(self.__matrix)):\n",
    "            if math.fabs(self.__matrix[i][row]) > max_element:\n",
    "                max_element = math.fabs(self.__matrix[i][row])\n",
    "                res_row = i\n",
    "        self.__matrix[row], self.__matrix[res_row] = self.__matrix[res_row], self.__matrix[row]\n",
    "        matrix_or_vector[row], matrix_or_vector[res_row] = matrix_or_vector[res_row], matrix_or_vector[row]\n",
    "\n",
    "    def __update_line(self, identity_matrix: list = None, base_line_index: int = 0, row: int = 0,\n",
    "                      vector: list = None):\n",
    "        if self.__matrix[base_line_index][base_line_index] == 0:\n",
    "            raise ZeroDivisionError(\"Matrix is not invertible: determinant is equal to zero.\")\n",
    "        l = -self.__matrix[row][base_line_index] / self.__matrix[base_line_index][base_line_index]\n",
    "        for col in range(base_line_index, len(self.__matrix)):\n",
    "            self.__matrix[row][col] += l * self.__matrix[base_line_index][col]\n",
    "            if identity_matrix is not None:\n",
    "                identity_matrix[row][col] += l * identity_matrix[base_line_index][col]\n",
    "        if vector is not None:\n",
    "            vector[row] += l * vector[base_line_index]\n",
    "\n",
    "    def __str__(self):\n",
    "        lines = ''\n",
    "        for line in self.__matrix:\n",
    "            lines += str([round(x, 2) for x in line]) + \"\\n\"\n",
    "        return lines"
   ],
   "metadata": {
    "collapsed": false,
    "pycharm": {
     "name": "#%%\n"
    }
   }
  },
  {
   "cell_type": "markdown",
   "source": [
    "Исходные матрицы:"
   ],
   "metadata": {
    "collapsed": false,
    "pycharm": {
     "name": "#%% md\n"
    }
   }
  },
  {
   "cell_type": "code",
   "execution_count": 3,
   "outputs": [],
   "source": [
    "first_matrix = [\n",
    "    [-1, -4, -5, -1, 0, -1, -1],\n",
    "    [-1, -4, 0, 4, -4, 0, -4],\n",
    "    [-2, -8, -5, -1, 0, -4, 0],\n",
    "    [-4, -16, -10, 2, -4, -2, 0],\n",
    "    [-8, -32, -20, 4, -8, 0, -2],\n",
    "    [-16, -64, -40, 8, -16, -7, -4],\n",
    "    [5, -5, -5, -2, 0, -2, -1]\n",
    "]\n",
    "\n",
    "second_matrix = [\n",
    "    [1, 1, 1, 1, 1, 1, 1, 1, 1, 1],\n",
    "    [1, 2, 4, 8, 16, 32, 64, 128, 256, 512],\n",
    "    [1, 3, 9, 27, 81, 243, 729, 2187, 6561, 19683],\n",
    "    [1, 4, 16, 64, 256, 1024, 4096, 16384, 65536, 262144],\n",
    "    [1, 5, 25, 125, 625, 3125, 15625, 78125, 390625, 1953125],\n",
    "    [1, 6, 36, 216, 1296, 7776, 46656, 279936, 1679616, 10077696],\n",
    "    [1, 7, 49, 343, 2401, 16807, 117649, 823543, 5764801, 40353607],\n",
    "    [1, 8, 64, 512, 4096, 32768, 262144, 2097152, 16777216, 134217728],\n",
    "    [1, 9, 81, 729, 6561, 59049, 531441, 4782969, 43046721, 387420489],\n",
    "    [1, 10, 100, 1000, 10000, 100000, 1000000, 10000000, 100000000, 1000000000]\n",
    "]\n",
    "\n",
    "third_matrix = [\n",
    "    [5, 3, 3, -4, 5, -5, -4, -5, 0, 2],\n",
    "    [5, 3, -1, 2, 3, 0, -4, 1, -4, -5],\n",
    "    [10, 6, 2, -3, -2, -2, -1, 0, -3, -5],\n",
    "    [20, 12, 4, -5, -1, -4, 4, -2, -2, -4],\n",
    "    [40, 24, 8, -10, 5, -1, 5, 2, 0, -3],\n",
    "    [80, 48, 16, -20, 10, -12, -3, -3, 3, 2],\n",
    "    [160, 96, 32, -40, 20, -24, -3, -4, 1, 4],\n",
    "    [320, 192, 64, -80, 40, -48, -6, -11, 0, -3],\n",
    "    [640, 384, 128, -160, 80, -96, -12, -22, -5, 2],\n",
    "    [-3, -3, 0, 0, 5, 3, -2, 2, 5, -2]\n",
    "]"
   ],
   "metadata": {
    "collapsed": false,
    "pycharm": {
     "name": "#%%\n"
    }
   }
  },
  {
   "cell_type": "markdown",
   "source": [
    "Демонстрация:"
   ],
   "metadata": {
    "collapsed": false,
    "pycharm": {
     "name": "#%% md\n"
    }
   }
  },
  {
   "cell_type": "code",
   "execution_count": 7,
   "outputs": [
    {
     "name": "stdout",
     "output_type": "stream",
     "text": [
      "\tFirst matrix:\n",
      "\n",
      "Matrix is not invertible: determinant is equal to zero.\n",
      "\n",
      "\tSecond matrix:\n",
      "\n",
      "[-53.94, -2.78, 8.57, -90.0, -2.67, 15.0, 120.0, -62.14, 10.0, -1.0]\n",
      "[162.88, 3.96, -17.45, 228.25, 19.27, -35.54, -334.33, 173.94, -28.18, 2.83]\n",
      "[-197.21, -1.34, 12.08, -223.42, -38.7, 31.31, 373.98, -195.81, 32.01, -3.23]\n",
      "[130.23, 0.17, -3.72, 112.64, 35.26, -13.55, -224.67, 118.58, -19.62, 1.99]\n",
      "[-52.22, -0.01, 0.57, -32.51, -17.43, 3.16, 80.9, -43.12, 7.24, -0.74]\n",
      "[13.15, -0.0, -0.04, 5.58, 5.05, -0.4, -18.27, 9.85, -1.68, 0.17]\n",
      "[-2.07, 0.0, 0.0, -0.56, -0.88, 0.03, 2.61, -1.42, 0.25, -0.03]\n",
      "[0.2, -0.0, -0.0, 0.03, 0.09, -0.0, -0.23, 0.13, -0.02, 0.0]\n",
      "[-0.01, -0.0, -0.0, -0.0, -0.01, -0.0, 0.01, -0.01, 0.0, -0.0]\n",
      "[0.0, -0.0, -0.0, -0.0, 0.0, -0.0, -0.0, 0.0, -0.0, 0.0]\n",
      "\n",
      "\n",
      "\tThird matrix:\n",
      "\n",
      "[-0.25, -0.42, 0.12, 0.37, -0.35, -0.36, -0.39, 0.35, 0.4, 0.5]\n",
      "[0.25, 0.06, -0.12, -0.85, 0.45, -0.18, 0.09, 1.01, -0.57, -0.83]\n",
      "[0.5, 9.67, -2.75, 3.18, 0.79, 12.47, 5.33, -23.86, -0.74, 0.0]\n",
      "[-0.0, 5.75, -2.0, 1.86, 0.17, 7.16, 2.89, -13.97, -0.42, -0.0]\n",
      "[-0.0, -0.56, -0.0, -0.29, -0.06, -1.05, -0.3, 1.59, -0.01, -0.0]\n",
      "[0.0, 0.21, 0.0, 0.0, 0.2, 0.77, -0.32, -0.85, 0.18, 0.0]\n",
      "[-0.0, -0.42, -0.0, -0.0, -0.0, -0.67, -0.11, 1.07, -0.01, -0.0]\n",
      "[0.0, 0.34, 0.0, 0.0, 0.0, 0.0, 0.67, -0.6, -0.2, 0.0]\n",
      "[0.0, -0.11, 0.0, 0.0, 0.0, 0.0, 0.0, 0.4, -0.09, 0.0]\n",
      "[-0.0, -0.07, -0.0, -0.0, -0.0, -0.0, -0.0, -0.0, 0.07, -0.0]\n",
      "\n",
      "\n"
     ]
    }
   ],
   "source": [
    "matrix1 = CustomMatrix(copy.deepcopy(first_matrix))\n",
    "print(\"\\tFirst matrix:\\n\")\n",
    "try:\n",
    "    print(matrix1.inverse())\n",
    "    print()\n",
    "except ZeroDivisionError as e:\n",
    "    print(e)\n",
    "\n",
    "print(\"\\n\\tSecond matrix:\\n\")\n",
    "matrix2 = CustomMatrix(copy.deepcopy(second_matrix))\n",
    "print(matrix2.inverse())\n",
    "\n",
    "print(\"\\n\\tThird matrix:\\n\")\n",
    "matrix3 = CustomMatrix(copy.deepcopy(third_matrix))\n",
    "print(matrix3.inverse())\n",
    "print()"
   ],
   "metadata": {
    "collapsed": false,
    "pycharm": {
     "name": "#%%\n"
    }
   }
  },
  {
   "cell_type": "markdown",
   "source": [
    "2. Найти точные обратные матрицы с использованием библиотеки\n",
    "SymPy или аналогичного программного обеспечения и вычислить\n",
    "нормы разности между точной и приближенной матрицами $A^{-1}$"
   ],
   "metadata": {
    "collapsed": false
   }
  },
  {
   "cell_type": "code",
   "execution_count": 9,
   "outputs": [
    {
     "name": "stdout",
     "output_type": "stream",
     "text": [
      "\tExact first matrix:\n",
      "\n",
      "Matrix det == 0; not invertible.\n",
      "\n",
      "\tExact second matrix:\n",
      "\n",
      "[10, -45, 120, -210, 252, -210, 120, -45, 10, -1]\n",
      "[-4861/252, 6121/56, -6541/21, 6751/12, -6877/10, 6961/12, -1003/3, 3533/28, -789/28, 7129/2520]\n",
      "[79913/5040, -115923/1120, 400579/1260, -71689/120, 5985/8, -461789/720, 22439/60, -39867/280, 161353/5040, -6515/2016]\n",
      "[-663941/90720, 264767/5040, -433739/2520, 728587/2160, -62549/144, 273431/720, -242639/1080, 435893/5040, -197741/10080, 4523/2268]\n",
      "[6041/2880, -92771/5760, 13349/240, -163313/1440, 43319/288, -129067/960, 58247/720, -45449/1440, 6947/960, -95/128]\n",
      "[-6709/17280, 18047/5760, -5419/480, 34343/1440, -93773/2880, 28603/960, -8771/480, 10427/1440, -3229/1920, 3013/17280]\n",
      "[67/1440, -1123/2880, 349/240, -2281/720, 40/9, -1999/480, 1877/720, -757/720, 119/480, -5/192]\n",
      "[-211/60480, 607/20160, -97/840, 31/120, -107/288, 57/160, -41/180, 59/630, -151/6720, 29/12096]\n",
      "[1/6720, -53/40320, 13/2520, -17/1440, 5/288, -49/2880, 1/90, -47/10080, 23/20160, -1/8064]\n",
      "[-1/362880, 1/40320, -1/10080, 1/4320, -1/2880, 1/2880, -1/4320, 1/10080, -1/40320, 1/362880]\n",
      "\n",
      "\tThe norm of the difference between the exact and approximate matrices: 2507.98997138047\n",
      "\n",
      "\tExact third matrix:\n",
      "\n",
      "[-3779/5600, -2379/5600, -1679/5600, -279/5600, -4339/5600, -4409/5600, -4549/5600, -81/1120, 2267/5600, 1/2]\n",
      "[108221/352800, 20021/352800, -24079/352800, -280279/352800, 180461/352800, -43609/352800, 51451/352800, 74959/70560, -199333/352800, -5/6]\n",
      "[358763/35280, 341123/35280, 244103/35280, 453263/35280, 368843/35280, 781073/35280, 529213/35280, -100103/7056, -26179/35280, 0]\n",
      "[84523/14700, 84523/14700, 55123/14700, 111823/14700, 87043/14700, 189733/14700, 127013/14700, -24163/2940, -6179/14700, 0]\n",
      "[-24883/44100, -24883/44100, -24883/44100, -37483/44100, -27403/44100, -71293/44100, -37973/44100, 9043/8820, -541/44100, 0]\n",
      "[1339/6300, 1339/6300, 1339/6300, 1339/6300, 2599/6300, 6169/6300, -691/6300, -799/1260, 1153/6300, 0]\n",
      "[-131/315, -131/315, -131/315, -131/315, -131/315, -341/315, -166/315, 41/63, -2/315, 0]\n",
      "[71/210, 71/210, 71/210, 71/210, 71/210, 71/210, 211/210, -11/42, -43/210, 0]\n",
      "[-4/35, -4/35, -4/35, -4/35, -4/35, -4/35, -4/35, 2/7, -3/35, 0]\n",
      "[-1/14, -1/14, -1/14, -1/14, -1/14, -1/14, -1/14, -1/14, 1/14, 0]\n",
      "\n",
      "\tThe norm of the difference between the exact and approximate matrices: 67.6831349206349\n",
      "\n"
     ]
    }
   ],
   "source": [
    "import sympy\n",
    "import numpy\n",
    "\n",
    "\n",
    "try:\n",
    "    print(\"\\tExact first matrix:\\n\")\n",
    "    exact = sympy.Matrix(copy.deepcopy(first_matrix))\n",
    "    exact = exact.inv()\n",
    "    for r in exact.tolist():\n",
    "        print(r)\n",
    "    print(\"\\n\\tThe norm of the difference between the exact and approximate matrices: {}\"\n",
    "          .format(numpy.linalg.norm(numpy.subtract(exact.tolist(),\n",
    "                            matrix1.get_matrix()), ord=numpy.inf)))\n",
    "except Exception as e:\n",
    "    print(e)\n",
    "\n",
    "print(\"\\n\\tExact second matrix:\\n\")\n",
    "exact = sympy.Matrix(copy.deepcopy(second_matrix))\n",
    "exact = exact.inv()\n",
    "for r in exact.tolist():\n",
    "    print(r)\n",
    "print(\"\\n\\tThe norm of the difference between the exact and approximate matrices: {}\"\n",
    "      .format(numpy.linalg.norm(numpy.subtract(exact.tolist(),\n",
    "                        matrix2.get_matrix()), ord=numpy.inf)))\n",
    "\n",
    "print(\"\\n\\tExact third matrix:\\n\")\n",
    "exact = sympy.Matrix(copy.deepcopy(third_matrix))\n",
    "exact = exact.inv()\n",
    "for r in exact.tolist():\n",
    "    print(r)\n",
    "print(\"\\n\\tThe norm of the difference between the exact and approximate matrices: {}\\n\"\n",
    "      .format(numpy.linalg.norm(numpy.subtract(exact.tolist(),\n",
    "                        matrix3.get_matrix()), ord=numpy.inf)))"
   ],
   "metadata": {
    "collapsed": false,
    "pycharm": {
     "name": "#%%\n"
    }
   }
  },
  {
   "cell_type": "markdown",
   "source": [
    "3. Проведите экспериментальное исследование скорости\n",
    "обращения матрицы в зависимости от размерности системы, используя для\n",
    "тестов матрицу A со случайными числами. Постройте график зависимости\n",
    "времени работы от размерности. Матрицу какой размерности ваша программа\n",
    "на вашем компьютере может обратить за одну минуту?"
   ],
   "metadata": {
    "collapsed": false
   }
  },
  {
   "cell_type": "markdown",
   "source": [
    "Подсчет времени обращения:"
   ],
   "metadata": {
    "collapsed": false,
    "pycharm": {
     "name": "#%% md\n"
    }
   }
  },
  {
   "cell_type": "code",
   "execution_count": 12,
   "outputs": [
    {
     "data": {
      "text/plain": "<Figure size 432x288 with 1 Axes>",
      "image/png": "[encoded data removed]"
     },
     "metadata": {
      "needs_background": "light"
     },
     "output_type": "display_data"
    }
   ],
   "source": [
    "import time\n",
    "import random\n",
    "import matplotlib.pyplot as plt\n",
    "\n",
    "\n",
    "def generate_matrix(n: int) -> list:\n",
    "    generated_matrix = []\n",
    "    for _ in range(n):\n",
    "        generated_matrix.append([random.randint(-100, 100) for _ in range(n)])\n",
    "    return generated_matrix\n",
    "\n",
    "\n",
    "def compute_plot_for_inversion() -> list:\n",
    "    x = [50 * i for i in range(1, 13)]\n",
    "    y = []\n",
    "    for index in range(len(x)):\n",
    "        try:\n",
    "            matrix = CustomMatrix(generate_matrix(x[index]))\n",
    "            start = time.time()\n",
    "            matrix.inverse()\n",
    "            end = time.time()\n",
    "            y.append(end - start)\n",
    "        except ZeroDivisionError as err:\n",
    "            print(err)\n",
    "    return y\n",
    "\n",
    "\n",
    "y_axis_for_inversion = [0.031249284744262695, 0.3281128406524658, 1.140587329864502, 2.782305955886841,\n",
    "                        5.936437368392944, 9.033401489257812, 14.11325478553772, 21.0109806060791,\n",
    "                        30.022388458251953, 41.59222650527954, 55.141825675964355, 79.4527599811554]\n",
    "\n",
    "\n",
    "def plot_for_inversion():\n",
    "    x = [50 * i for i in range(1, 13)]\n",
    "    plt.scatter(x, y_axis_for_inversion, color=\"green\")\n",
    "    plt.xlabel(\"matrix dimension\")\n",
    "    plt.ylabel(\"inversion time\")\n",
    "    plt.show()\n",
    "\n",
    "\n",
    "plot_for_inversion()"
   ],
   "metadata": {
    "collapsed": false,
    "pycharm": {
     "name": "#%%\n"
    }
   }
  },
  {
   "cell_type": "markdown",
   "source": [
    "Из графика видно, что программа на моем компьютере способна обратить\n",
    "за одну минуту матрицу размерностью 580."
   ],
   "metadata": {
    "collapsed": false,
    "pycharm": {
     "name": "#%% md\n"
    }
   }
  },
  {
   "cell_type": "markdown",
   "source": [
    "4. Проведите экспериментальное исследование скорости\n",
    "решения СЛАУ в зависимости от размерности системы, используя для\n",
    "тестов матрицу A и вектор b со случайными числами. Постройте график зависимости\n",
    "времени работы от размерности. Систему какой размерности ваша программа\n",
    "на вашем компьютере может обратить за одну минуту?"
   ],
   "metadata": {
    "collapsed": false
   }
  },
  {
   "cell_type": "markdown",
   "source": [
    "Подсчет скорости решения СЛАУ"
   ],
   "metadata": {
    "collapsed": false,
    "pycharm": {
     "name": "#%% md\n"
    }
   }
  },
  {
   "cell_type": "code",
   "execution_count": 13,
   "outputs": [
    {
     "data": {
      "text/plain": "<Figure size 432x288 with 1 Axes>",
      "image/png": "[encoded data removed]"
     },
     "metadata": {
      "needs_background": "light"
     },
     "output_type": "display_data"
    }
   ],
   "source": [
    "def generate_vector(n: int) -> list:\n",
    "    generated_vector = []\n",
    "    for _ in range(n):\n",
    "        generated_vector.append(random.randint(-100, 100))\n",
    "    return generated_vector\n",
    "\n",
    "\n",
    "def compute_plot_for_slae() -> list:\n",
    "    x = [50 * i for i in range(1, 18)]\n",
    "    y = []\n",
    "    for dimension in x:\n",
    "        try:\n",
    "            matrix = CustomMatrix(generate_matrix(dimension))\n",
    "            vector = generate_vector(dimension)\n",
    "            start = time.time()\n",
    "            matrix.solve_gauss(vector)\n",
    "            end = time.time()\n",
    "            y.append(end - start)\n",
    "        except ZeroDivisionError as err:\n",
    "            print(err)\n",
    "    return y\n",
    "\n",
    "\n",
    "y_axis_for_slae = [0.03124713897705078, 0.15624690055847168, 0.5445623397827148, 0.9897611141204834,\n",
    "                   1.8593089580535889, 3.1092660427093506, 4.7498414516448975, 7.062257289886475,\n",
    "                   9.999656677246094, 13.640878200531006, 18.046886444091797, 23.422215700149536,\n",
    "                   29.8277268409729, 37.094478607177734, 45.452930212020874, 55.136630058288574,\n",
    "                   65.74627757072449]\n",
    "\n",
    "\n",
    "def plot_for_slae():\n",
    "    x = [50 * i for i in range(1, 18)]\n",
    "    plt.scatter(x, y_axis_for_slae, color=\"green\")\n",
    "    plt.xlabel(\"matrix dimension\")\n",
    "    plt.ylabel(\"solving time\")\n",
    "    plt.show()\n",
    "\n",
    "\n",
    "plot_for_slae()"
   ],
   "metadata": {
    "collapsed": false,
    "pycharm": {
     "name": "#%%\n"
    }
   }
  },
  {
   "cell_type": "markdown",
   "source": [
    "Здесь уже компьютор может решить СЛАУ размерностью 810 за одну минуту"
   ],
   "metadata": {
    "collapsed": false,
    "pycharm": {
     "name": "#%% md\n"
    }
   }
  },
  {
   "cell_type": "markdown",
   "source": [
    "### Заключение\n",
    "\n",
    "#### Краткое описание\n",
    "\n",
    "Таким образом был реализован класс CustomMatrix, содержащий\n",
    "функциональность для обращения матрицы и решения СЛАУ\n",
    "методом Гаусса. В модуле resources.py находятся исходные\n",
    "матрицы, а также вектора, содержащие время обращения матриц\n",
    "и время решения СЛАУ для пунктов 3 и 4 соответственно.\n",
    "\n",
    "#### Выводы\n",
    "\n",
    "Первый пункт наглядно демонстрирует, что алгоритм Гаусса для\n",
    "обращения плохо обусловленной матрицы абсолютно не годится (это\n",
    "особенно видно для второй матрицы). Поэтому стоит использовать\n",
    "другие методы решения этой задачи, например QR разложение, при\n",
    "котором сохраняется евклидова норма векторов, что повышает точность вычислений.\n",
    "А еще лучше вместо десятичных дробей работать с рациональными числами,\n",
    "т.е. представлять числа не в десятичном виде, а в виде неправильной\n",
    "дроби (как в SymPy). В таком случае погрешности машинного округления\n",
    "никак не влияют на результат работы, т.к. мы работаем с\n",
    "целыми числами."
   ],
   "metadata": {
    "collapsed": false
   }
  }
 ],
 "metadata": {
  "kernelspec": {
   "display_name": "Python 3",
   "language": "python",
   "name": "python3"
  },
  "language_info": {
   "codemirror_mode": {
    "name": "ipython",
    "version": 2
   },
   "file_extension": ".py",
   "mimetype": "text/x-python",
   "name": "python",
   "nbconvert_exporter": "python",
   "pygments_lexer": "ipython2",
   "version": "2.7.6"
  }
 },
 "nbformat": 4,
 "nbformat_minor": 0
}