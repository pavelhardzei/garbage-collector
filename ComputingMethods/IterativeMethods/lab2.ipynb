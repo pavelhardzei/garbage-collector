{
 "cells": [
  {
   "cell_type": "markdown",
   "source": [
    "## Лабораторная работа №2\n",
    "### Итерационные методы решения СЛАУ\n",
    "#### Вариант 5\n",
    "#### Выполнил студент 14 группы 2 курса\n",
    "#### Гордей Павел Дмитриевич"
   ],
   "metadata": {
    "collapsed": false,
    "pycharm": {
     "name": "#%% md\n"
    }
   }
  },
  {
   "cell_type": "markdown",
   "source": [
    "#### Задание 2. Метод релаксации 1\n",
    "\n",
    "$\n",
    "A = \\left(\n",
    "\\begin{array}{}\n",
    "-1&1&-1\\\\\n",
    "-1&4&-2\\\\\n",
    " 2&-3&5\\\\\n",
    "\\end{array}\n",
    "\\right)\n",
    "$\n",
    "\n",
    "1. Написать программу, которая решает СЛАУ _Ax = b_ методом релаксаций\n",
    "(в качестве вектора <i>b</i> взять вектор, соответствующий какому-нибудь\n",
    "заданному значению <i>x</i>). Экспериментально подобрать значение параметра\n",
    "<i>w</i>, при котором итерационный процесс сходится (_w<sub>1</sub>_),\n",
    "а также значение, при котором он расходится (_w<sub>0</sub>_)."
   ],
   "metadata": {
    "collapsed": false,
    "pycharm": {
     "name": "#%% md\n"
    }
   }
  },
  {
   "cell_type": "markdown",
   "source": [
    "Возьмем вектор <i>b</i> = (-1, 1, 4)<sup>T</sup>, который соответствует\n",
    "<i>x</i> = (1, 1, 1)<sup>T</sup>\n",
    "\n",
    "Основной класс задания:"
   ],
   "metadata": {
    "collapsed": false,
    "pycharm": {
     "name": "#%% md\n"
    }
   }
  },
  {
   "cell_type": "code",
   "execution_count": 10,
   "outputs": [],
   "source": [
    "import copy\n",
    "import numpy as np\n",
    "\n",
    "\n",
    "class Slae:\n",
    "    def __init__(self, A: list[list], b: list):\n",
    "        self.__A = copy.deepcopy(A)\n",
    "        self.__b = copy.deepcopy(b)\n",
    "        if not self.__isSquare() or len(A) != len(b):\n",
    "            raise Exception(\"Invalid input\")\n",
    "\n",
    "    def relaxation(self, w: float = 1.0, k: int = 3, init: list = None) -> list:\n",
    "        e = 10 ** (-k)\n",
    "        size = len(self.__b)\n",
    "        if init is not None:\n",
    "            if len(init) != size:\n",
    "                raise Exception(\"Invalid input\")\n",
    "            x = copy.deepcopy(init)\n",
    "        else:\n",
    "            x = size * [0.0]\n",
    "        x_next = size * [0.0]\n",
    "\n",
    "        while np.linalg.norm(np.subtract(np.matmul(self.__A, x), self.__b), np.inf) > e:\n",
    "            for i in range(size):\n",
    "                sum1 = sum2 = 0.0\n",
    "                for j in range(i):\n",
    "                    sum1 += self.__A[i][j] * x_next[j]\n",
    "                for j in range(i + 1, size):\n",
    "                    sum2 += self.__A[i][j] * x[j]\n",
    "                x_next[i] = (1 - w) * x[i] + (w / self.__A[i][i]) * (self.__b[i] - sum1 - sum2)\n",
    "            x = x_next\n",
    "            x_next = size * [0.0]\n",
    "\n",
    "        return x\n",
    "\n",
    "    @staticmethod\n",
    "    def sparse_slae(main_diagonal: list, side_diagonal: list, b: list, k: int = 3, init: list = None) -> list:\n",
    "        if len(main_diagonal) != len(side_diagonal) or len(main_diagonal) != len(b) or len(b) % 2 != 0:\n",
    "            raise Exception(\"The size must be even\")\n",
    "\n",
    "        e = 10 ** (-k)\n",
    "        size = len(b)\n",
    "        if init is not None:\n",
    "            if len(init) != size:\n",
    "                raise Exception(\"Invalid input\")\n",
    "            x = copy.deepcopy(init)\n",
    "        else:\n",
    "            x = size * [10.0]\n",
    "        x_next = size * [0.0]\n",
    "\n",
    "        while np.linalg.norm(np.subtract(Slae.sparse_dot(main_diagonal, side_diagonal, x), b), np.inf) > e:\n",
    "            for i in range(size):\n",
    "                summa: float\n",
    "                if i < size // 2:\n",
    "                    summa = side_diagonal[i] * x[size - 1 - i]\n",
    "                else:\n",
    "                    summa = side_diagonal[i] * x_next[size - 1 - i]\n",
    "                x_next[i] = (b[i] - summa) / main_diagonal[i]\n",
    "            x = x_next\n",
    "            x_next = size * [0.0]\n",
    "\n",
    "        return x\n",
    "\n",
    "    def __isSquare(self) -> bool:\n",
    "        for line in self.__A:\n",
    "            if len(line) != len(self.__A):\n",
    "                return False\n",
    "        return True\n",
    "\n",
    "    @staticmethod\n",
    "    def sparse_dot(main_diagonal: list, side_diagonal: list, x: list) -> list:\n",
    "        if len(main_diagonal) != len(side_diagonal) or len(main_diagonal) != len(x) or len(x) % 2 != 0:\n",
    "            raise Exception(\"The size must be even\")\n",
    "        size = len(x)\n",
    "        res = size * [0]\n",
    "        for i in range(size):\n",
    "            res[i] = main_diagonal[i] * x[i] + side_diagonal[i] * x[size - 1 - i]\n",
    "        return res"
   ],
   "metadata": {
    "collapsed": false,
    "pycharm": {
     "name": "#%%\n"
    }
   }
  },
  {
   "cell_type": "markdown",
   "source": [
    "Сходится при <i>w<sub>1</sub></i> = 0.5"
   ],
   "metadata": {
    "collapsed": false,
    "pycharm": {
     "name": "#%% md\n"
    }
   }
  },
  {
   "cell_type": "code",
   "execution_count": 11,
   "outputs": [
    {
     "name": "stdout",
     "output_type": "stream",
     "text": [
      "[0.9999956277947262, 1.000003223683153, 1.000005295031451]\n"
     ]
    }
   ],
   "source": [
    "matrixA = [[-1, 1, -1],\n",
    "           [-1, 4, -2],\n",
    "           [2, -3, 5]]\n",
    "vectorB = [-1, 1, 4]\n",
    "slae = Slae(matrixA, vectorB)\n",
    "print(slae.relaxation(w=0.5, k=5))"
   ],
   "metadata": {
    "collapsed": false,
    "pycharm": {
     "name": "#%%\n"
    }
   }
  },
  {
   "cell_type": "markdown",
   "source": [
    "Не сходится при <i>w<sub>0</sub></i> = 1.9"
   ],
   "metadata": {
    "collapsed": false
   }
  },
  {
   "cell_type": "code",
   "execution_count": 12,
   "outputs": [
    {
     "name": "stdout",
     "output_type": "stream",
     "text": [
      "[inf, nan, nan]\n"
     ]
    }
   ],
   "source": [
    "np.seterr(all='print')\n",
    "print(slae.relaxation(w=1.9, k=5))"
   ],
   "metadata": {
    "collapsed": false,
    "pycharm": {
     "name": "#%%\n"
    }
   }
  },
  {
   "cell_type": "markdown",
   "source": [
    "2. Путем теоретического анализа подтвердить сходимость и расходимость"
   ],
   "metadata": {
    "collapsed": false,
    "pycharm": {
     "name": "#%% md\n"
    }
   }
  },
  {
   "cell_type": "markdown",
   "source": [
    "В векторной форме метод релаксаций имеет вид:\n",
    "\n",
    "$ x^{k + 1} = (1 - w)x^{k} + wD^{-1}(b - Lx^{k + 1} - Rx^{k}) $\n",
    "\n",
    "Приводя к виду: $ x^{k + 1} = B_{w}x^{k} + g_{w} $ имеем, что:\n",
    "\n",
    "$ B_{w} = (D + wL)^{-1}((1 - w)D - wR) $,\n",
    "\n",
    "$ g_{w} = (D + wL)^{-1}b $\n",
    "\n",
    "Подставив сюда исходные значения, для <i>w</i> = 0.5 имеем:\n",
    "\n",
    "$\n",
    "B_{w} = \\left(\n",
    "\\begin{array}{}\n",
    "0.5&0.5&-0.5\\\\\n",
    "0.0625&0.5625&0.1875\\\\\n",
    "-0.08125&0.06875&0.65625\\\\\n",
    "\\end{array}\n",
    "\\right)\n",
    "$\n",
    "\n",
    "Собственные значения этой матрицы:\n",
    "\n",
    "$ \\lambda_{1} = 0.75 + 0.0272 * i $\n",
    "\n",
    "$ \\lambda_{2} = 0.75 - 0.0272 * i $\n",
    "\n",
    "$ \\lambda_{3} = 0.223 $\n",
    "\n",
    "Так как $ |\\lambda_{1}| = |\\lambda_{2}| = 0.7505$ и\n",
    "$ |\\lambda_{3}| = 0.223 $, то, действительно, итерационный процесс сходится,\n",
    "ведь все собственные значения матрицы по модулю меньше единицы:\n",
    "$ \\rho(B) < 1$."
   ],
   "metadata": {
    "collapsed": false,
    "pycharm": {
     "name": "#%% md\n"
    }
   }
  },
  {
   "cell_type": "markdown",
   "source": [
    "Аналогично для <i>w</i> = 1.9 имеем:\n",
    "\n",
    "$\n",
    "B_{w} = \\left(\n",
    "\\begin{array}{}\n",
    "-0.9&1.9&-1.9\\\\\n",
    "-0.4275&0.0025&0.0475\\\\\n",
    " 1.17135&-1.44685&0.48985\\\\\n",
    "\\end{array}\n",
    "\\right)\n",
    "$\n",
    "\n",
    "Собственные значения:\n",
    "\n",
    "$ \\lambda_{1} = -0.065 + 1.62 * i $\n",
    "\n",
    "$ \\lambda_{2} = -0.065 - 1.62 * i $\n",
    "\n",
    "$ \\lambda_{3} = -0.277 $\n",
    "\n",
    "Отсюда видно, что $|\\lambda_{1}| > 1$, поэтому итерационный процесс\n",
    "не сходится."
   ],
   "metadata": {
    "collapsed": false,
    "pycharm": {
     "name": "#%% md\n"
    }
   }
  },
  {
   "cell_type": "markdown",
   "source": [
    "3. Построить логарифмическую диаграмму сходимости (совмещенную) для\n",
    "<i>w = w<sub>0</sub>, w<sub>1</sub>, w = 1</i> и еще двух любых\n",
    "значений от 0 до 2."
   ],
   "metadata": {
    "collapsed": false,
    "pycharm": {
     "name": "#%% md\n"
    }
   }
  },
  {
   "cell_type": "code",
   "execution_count": 13,
   "outputs": [
    {
     "data": {
      "text/plain": "<Figure size 432x288 with 1 Axes>",
      "image/png": "[encoded data removed]"
     },
     "metadata": {
      "needs_background": "light"
     },
     "output_type": "display_data"
    }
   ],
   "source": [
    "from matplotlib import pyplot as plt\n",
    "\n",
    "\n",
    "def count_discrepancy_norms_task2(A: list[list[float]], b: list[float],\n",
    "                                  w: float = 1.0, k: int = 100, init: list = None) -> list:\n",
    "    discrepancy_norms = []\n",
    "    size = len(b)\n",
    "    if init is not None:\n",
    "        if len(init) != size:\n",
    "            raise Exception(\"Invalid input\")\n",
    "        x = copy.deepcopy(init)\n",
    "    else:\n",
    "        x = size * [0.0]\n",
    "    x_next = size * [0.0]\n",
    "\n",
    "    for _ in range(k):\n",
    "        discrepancy_norms.append(np.linalg.norm(np.subtract(np.matmul(A, x), b), np.inf))\n",
    "        for i in range(size):\n",
    "            sum1 = sum2 = 0.0\n",
    "            for j in range(i):\n",
    "                sum1 += A[i][j] * x_next[j]\n",
    "            for j in range(i + 1, size):\n",
    "                sum2 += A[i][j] * x[j]\n",
    "            x_next[i] = (1 - w) * x[i] + (w / A[i][i]) * (b[i] - sum1 - sum2)\n",
    "        x = x_next\n",
    "        x_next = size * [0.0]\n",
    "\n",
    "    return discrepancy_norms\n",
    "\n",
    "\n",
    "def convergence_diagram_task2(A: list[list], b: list, k: int = 100):\n",
    "    d1 = count_discrepancy_norms_task2(A, b, 0.5, k)\n",
    "    d2 = count_discrepancy_norms_task2(A, b, 1.9, k)\n",
    "    d3 = count_discrepancy_norms_task2(A, b, 1, k)\n",
    "    d4 = count_discrepancy_norms_task2(A, b, 0.1, k)\n",
    "    d5 = count_discrepancy_norms_task2(A, b, 1.7, k)\n",
    "    x = list(range(1, k + 1))\n",
    "    ax = plt.subplots()[1]\n",
    "    ax.plot(x, d1, color='blue')\n",
    "    ax.plot(x, d2, color='orange')\n",
    "    ax.plot(x, d3, color='green')\n",
    "    ax.plot(x, d4, color='cyan')\n",
    "    ax.plot(x, d5, color='red')\n",
    "    ax.set_xlabel('iterations')\n",
    "    ax.set_ylabel('discrepancy norm')\n",
    "    ax.set_yscale('log')\n",
    "    ax.set_xscale('log')\n",
    "    plt.title('Initial approximation: [0.0, 0.0, 0.0]')\n",
    "    plt.legend([\"w = 0.5\", \"w = 1.9\", \"w = 1\", \"w = 0.1\", \"w = 1.7\"], loc='lower left')\n",
    "    plt.show()\n",
    "\n",
    "\n",
    "convergence_diagram_task2(matrixA, vectorB, 1000)"
   ],
   "metadata": {
    "collapsed": false,
    "pycharm": {
     "name": "#%%\n"
    }
   }
  },
  {
   "cell_type": "markdown",
   "source": [
    "#### Задание 5. Итерационные методы для разреженных СЛАУ особого вида\n",
    "\n",
    "1. Написать программу, которая при данном <i>n</i> решает СЛАУ <i>Ax = b</i>\n",
    "указанным в варианте методом. Здесь <i>A</i> - разреженные матрицы размерности <i>n</i>\n",
    "из списка 2, указанные в варианте.\n",
    "\n",
    "<il>\n",
    "<li>Матрицу <i>A</i> следует либо хранить в одном из форматов для разреженных матриц,\n",
    "либо сразу реализовать итерационный метод, учитывая известную структуру матрицы.\n",
    "Хранить в памяти матрицу целиком со всеми нулями запрещено!</li>\n",
    "<li>Вектор <i>b</i> выбирать таким образом, чтобы он соответствовал некоторому\n",
    "заранее заданному решению.</li>\n",
    "<li>Критерий остановки итераций: $\n",
    "||Ax^{k} - b|| < \\varepsilon\n",
    "$ </li>\n",
    "</il>"
   ],
   "metadata": {
    "collapsed": false,
    "pycharm": {
     "name": "#%% md\n"
    }
   }
  },
  {
   "cell_type": "markdown",
   "source": [
    "$\n",
    "A_{n} = \\left(\n",
    "\\begin{array}{}\n",
    "a&&&&&&&b\\\\\n",
    "&\\dots&&&&&\\dots&\\\\\n",
    "&&a&&&b&&\\\\\n",
    "&&&a&b&&&\\\\\n",
    "&&&b&a&&&\\\\\n",
    "&\\dots&&&&&\\dots&\\\\\n",
    "b&&&&&&&a\\\\\n",
    "\\end{array}\n",
    "\\right)\n",
    ",$ где a = 3, b = -2 и n - четное (в условии a = 1, но тогда метод не сходится,\n",
    "т.к. матрица не обладает свойством диагонального преобладания).\n",
    "\n",
    "Метод Гаусса-Зейделя."
   ],
   "metadata": {
    "collapsed": false,
    "pycharm": {
     "name": "#%% md\n"
    }
   }
  },
  {
   "cell_type": "markdown",
   "source": [
    "2. Подвердить правильность работы программы на примере\n",
    "нескольких СЛАУ размерности 5-10."
   ],
   "metadata": {
    "collapsed": false,
    "pycharm": {
     "name": "#%% md\n"
    }
   }
  },
  {
   "cell_type": "markdown",
   "source": [
    "Пусть вектор <i>b</i> = (1, 1, ..., 1)<sup>T</sup>, что соответствует\n",
    "<i>x</i> = (1, 1, ..., 1)<sup>T</sup>."
   ],
   "metadata": {
    "collapsed": false,
    "pycharm": {
     "name": "#%% md\n"
    }
   }
  },
  {
   "cell_type": "code",
   "execution_count": 14,
   "outputs": [
    {
     "name": "stdout",
     "output_type": "stream",
     "text": [
      "[1.0003564191523813, 1.0003564191523813, 1.0003564191523813, 1.0002376127682542, 1.0002376127682542, 1.0002376127682542]\n",
      "[1.0003564191523813, 1.0003564191523813, 1.0003564191523813, 1.0003564191523813, 1.0002376127682542, 1.0002376127682542, 1.0002376127682542, 1.0002376127682542]\n",
      "[1.0003564191523813, 1.0003564191523813, 1.0003564191523813, 1.0003564191523813, 1.0003564191523813, 1.0002376127682542, 1.0002376127682542, 1.0002376127682542, 1.0002376127682542, 1.0002376127682542]\n"
     ]
    }
   ],
   "source": [
    "for s in range(6, 11, 2):\n",
    "    print(Slae.sparse_slae([3 for _ in range(s)], [-2 for _ in range(s)], [1 for _ in range(s)]))"
   ],
   "metadata": {
    "collapsed": false,
    "pycharm": {
     "name": "#%%\n"
    }
   }
  },
  {
   "cell_type": "markdown",
   "source": [
    "3. Построить диаграмму сходимости (общую) для <i>n</i> = 100, 1000, 10000."
   ],
   "metadata": {
    "collapsed": false,
    "pycharm": {
     "name": "#%% md\n"
    }
   }
  },
  {
   "cell_type": "code",
   "execution_count": 15,
   "outputs": [
    {
     "data": {
      "text/plain": "<Figure size 432x288 with 1 Axes>",
      "image/png": "[encoded data removed]"
     },
     "metadata": {
      "needs_background": "light"
     },
     "output_type": "display_data"
    }
   ],
   "source": [
    "def count_discrepancy_norms_task5(main_diagonal: list,\n",
    "                                  side_diagonal: list, b: list, k: int = 100, init: list = None):\n",
    "    if len(main_diagonal) != len(side_diagonal) or len(main_diagonal) != len(b) or len(b) % 2 != 0:\n",
    "        raise Exception(\"The size must be even\")\n",
    "\n",
    "    size = len(b)\n",
    "    discrepancy_norms = []\n",
    "    if init is not None:\n",
    "        if len(init) != size:\n",
    "            raise Exception(\"Invalid input\")\n",
    "        x = copy.deepcopy(init)\n",
    "    else:\n",
    "        x = size * [10.0]\n",
    "    x_next = size * [0.0]\n",
    "\n",
    "    for _ in range(k):\n",
    "        discrepancy_norms.append(np.linalg.norm\n",
    "                                 (np.subtract(Slae.sparse_dot(main_diagonal, side_diagonal, x), b), np.inf))\n",
    "        for i in range(size):\n",
    "            summa: float\n",
    "            if i < size // 2:\n",
    "                summa = side_diagonal[i] * x[size - 1 - i]\n",
    "            else:\n",
    "                summa = side_diagonal[i] * x_next[size - 1 - i]\n",
    "            x_next[i] = (b[i] - summa) / main_diagonal[i]\n",
    "        x = x_next\n",
    "        x_next = size * [0.0]\n",
    "\n",
    "    return discrepancy_norms\n",
    "\n",
    "\n",
    "def convergence_diagram_task5(k: int):\n",
    "    d1 = count_discrepancy_norms_task5([3 for _ in range(100)], [-2 for _ in range(100)], [1 for _ in range(100)], k)\n",
    "    d2 = count_discrepancy_norms_task5([3 for _ in range(1000)], [-2 for _ in range(1000)], [1 for _ in range(1000)], k)\n",
    "    d3 = count_discrepancy_norms_task5([3 for _ in range(10000)], [-2 for _ in range(10000)], [1 for _ in range(10000)], k)\n",
    "    x = list(range(1, k + 1))\n",
    "    plt.plot(x, d1, lw=10)\n",
    "    plt.plot(x, d2, lw=5)\n",
    "    plt.plot(x, d3)\n",
    "    plt.xlabel('iterations')\n",
    "    plt.ylabel('discrepancy norm')\n",
    "    plt.legend([\"n = 100\", \"n = 1000\", \"n = 10000\"], loc='upper right')\n",
    "    plt.title('Initial approximation: [10.0, ..., 10.0]')\n",
    "    plt.show()\n",
    "\n",
    "\n",
    "convergence_diagram_task5(k=50)"
   ],
   "metadata": {
    "collapsed": false,
    "pycharm": {
     "name": "#%%\n"
    }
   }
  },
  {
   "cell_type": "markdown",
   "source": [
    "4. Построить диаграмму, в которой по оси абсцисс изменяется <i>n</i> = [10<sup>k / 2</sup>],\n",
    "<i>k = 1, ..., 12</i>, а на оси ординат отложено время работы, которое требуется,\n",
    "чтобы норма невязки не превышала 10<sup>-8</sup> (все размерности для моего варианта должны быть четными)."
   ],
   "metadata": {
    "collapsed": false,
    "pycharm": {
     "name": "#%% md\n"
    }
   }
  },
  {
   "cell_type": "markdown",
   "source": [
    "С помощью следующей функции засекаем время работы для каждой размерности:"
   ],
   "metadata": {
    "collapsed": false,
    "pycharm": {
     "name": "#%% md\n"
    }
   }
  },
  {
   "cell_type": "code",
   "execution_count": 16,
   "outputs": [],
   "source": [
    "import time\n",
    "\n",
    "\n",
    "def get_time_for_n():\n",
    "    time_arr = []\n",
    "    n = [int(10 ** (k / 2)) for k in range(1, 13)]\n",
    "    n = list(map(lambda x: x + 1 if x % 2 != 0 else x, n))\n",
    "    for dim in n:\n",
    "        start = time.time()\n",
    "        Slae.sparse_slae([3 for _ in range(dim)], [-2 for _ in range(dim)], [1 for _ in range(dim)], 8)\n",
    "        time_arr.append(time.time() - start)\n",
    "    return n, time_arr\n",
    "\n",
    "\n",
    "# результат работы этой функции\n",
    "dimensions = [4, 10, 32, 100, 316, 1000, 3162, 10000, 31622, 100000, 316228, 1000000]\n",
    "time_list = [0.0, 0.0, 0.0, 0.0, 0.015624761581420898, 0.015623092651367188,\n",
    "             0.12499880790710449, 0.29686474800109863, 0.968719482421875,\n",
    "             3.2186429500579834, 9.452810525894165, 29.81579041481018]"
   ],
   "metadata": {
    "collapsed": false,
    "pycharm": {
     "name": "#%%\n"
    }
   }
  },
  {
   "cell_type": "markdown",
   "source": [
    "Результат:"
   ],
   "metadata": {
    "collapsed": false,
    "pycharm": {
     "name": "#%% md\n"
    }
   }
  },
  {
   "cell_type": "code",
   "execution_count": 17,
   "outputs": [
    {
     "data": {
      "text/plain": "<Figure size 432x288 with 1 Axes>",
      "image/png": "[encoded data removed]"
     },
     "metadata": {
      "needs_background": "light"
     },
     "output_type": "display_data"
    }
   ],
   "source": [
    "def time_diagram(n, time_arr):\n",
    "    plt.plot(n, time_arr)\n",
    "    plt.xlabel('dimension')\n",
    "    plt.ylabel('convergence time in sec')\n",
    "    plt.title('Initial approximation: [0.0, ..., 0.0]')\n",
    "    plt.show()\n",
    "\n",
    "\n",
    "time_diagram(dimensions, time_list)"
   ],
   "metadata": {
    "collapsed": false,
    "pycharm": {
     "name": "#%%\n"
    }
   }
  },
  {
   "cell_type": "markdown",
   "source": [
    "#### Заключение\n",
    "\n",
    "Таким образом были реализованы итерационные методы решения СЛАУ для обычной матрицы\n",
    "и для разреженной матрицы особого вида. Хоть итерационные методы дают приближенное\n",
    "решение, это не проблема, ведь при решении точными методами, такими как алгоритм\n",
    "Гаусса, из-за ошибок машинного округления все равно получается приближенный результат.\n",
    "Стоит отметить, что итерационные методы не будут сходиться для всех матриц, т.к.\n",
    "должны выполняться некоторые условия. Тем не менее, итерационные методы широко\n",
    "применяются на практике."
   ],
   "metadata": {
    "collapsed": false,
    "pycharm": {
     "name": "#%% md\n"
    }
   }
  }
 ],
 "metadata": {
  "kernelspec": {
   "display_name": "Python 3",
   "language": "python",
   "name": "python3"
  },
  "language_info": {
   "codemirror_mode": {
    "name": "ipython",
    "version": 2
   },
   "file_extension": ".py",
   "mimetype": "text/x-python",
   "name": "python",
   "nbconvert_exporter": "python",
   "pygments_lexer": "ipython2",
   "version": "2.7.6"
  }
 },
 "nbformat": 4,
 "nbformat_minor": 0
}